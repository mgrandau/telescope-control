{
  "cells": [
    {
      "cell_type": "markdown",
      "id": "2b9b5a57",
      "metadata": {
        "id": "2b9b5a57"
      },
      "source": [
        "# Calculations for FOV\n",
        "\n",
        "[![Open In Colab](https://colab.research.google.com/assets/colab-badge.svg)](https://colab.research.google.com/github/mgrandau/astrophotography-camera-exposure-times/blob/main/astrophotography-camera-exposure-times%20.ipynb)\n",
        "\n",
        "\n",
        "This notebook goes into the calculations for the \"Field of View\" of my cameras. This should allow me to calculate a box that can be put over star maps to see the expected view."
      ]
    },
    {
      "cell_type": "markdown",
      "id": "c5427e1c",
      "metadata": {
        "id": "c5427e1c"
      },
      "source": [
        "$\\textbf{FOV\\ (arcseconds)} = \\dfrac{Chip\\ Size}{Focal\\ Length} * \\dfrac{360^{\\circ}}{2\\pi} * 60\\ \\dfrac{arcminutes}{1^{\\circ}} * 60\\ \\dfrac{arcseconds}{arcminute}$"
      ]
    },
    {
      "cell_type": "code",
      "execution_count": 5,
      "id": "M4spi-XhVnOw",
      "metadata": {
        "id": "M4spi-XhVnOw"
      },
      "outputs": [],
      "source": [
        "import math\n",
        "\n",
        "# My telescope has 1600mm focal length\n",
        "focal_length = 1600"
      ]
    },
    {
      "cell_type": "code",
      "execution_count": 6,
      "id": "TWiwDVIfVnO0",
      "metadata": {
        "id": "TWiwDVIfVnO0"
      },
      "outputs": [],
      "source": [
        "def fov(size_millimeter) :   \n",
        "    return (size_millimeter/focal_length) * (360/(2*math.pi)) * 60 * 60"
      ]
    },
    {
      "cell_type": "markdown",
      "id": "itEyeXeYVnO1",
      "metadata": {
        "id": "itEyeXeYVnO1"
      },
      "source": [
        "## ASI482MC"
      ]
    },
    {
      "cell_type": "markdown",
      "id": "c83df6d6",
      "metadata": {
        "id": "c83df6d6"
      },
      "source": [
        "So for the ASI482MC:\n",
        "* Resolution: 2.07Mega Pixel,1920 x 1080\n",
        "* Pixel Size: 5.8um x 5.8um\n",
        "* Dimension of sensor: 11.13mm x 6.26mm"
      ]
    },
    {
      "cell_type": "code",
      "execution_count": 7,
      "id": "MHm7HN8XVnO3",
      "metadata": {
        "id": "MHm7HN8XVnO3"
      },
      "outputs": [],
      "source": [
        "ASI482MC_size_millimeter = (11.13, 6.26)\n",
        "ASI482MC_pixel_size_millimeter = 5.8/1000\n",
        "ASI482MC_FOV_pixel_in_arcseconds = fov(ASI482MC_pixel_size_millimeter)"
      ]
    },
    {
      "cell_type": "code",
      "execution_count": 8,
      "id": "d8a736bc",
      "metadata": {
        "id": "d8a736bc",
        "outputId": "5b68dddb-53e3-44a9-f04e-ee6ce32aa35c"
      },
      "outputs": [
        {
          "name": "stdout",
          "output_type": "stream",
          "text": [
            "(ASI482MC) The theoretical FOV is: 23.91 x 13.45 arcmin\n"
          ]
        }
      ],
      "source": [
        "print(f'(ASI482MC) The theoretical FOV is: {fov(ASI482MC_size_millimeter[0])/60:.2f} x {fov(ASI482MC_size_millimeter[1])/60:.2f} arcmin')"
      ]
    },
    {
      "cell_type": "markdown",
      "id": "91d05e4e",
      "metadata": {
        "id": "91d05e4e"
      },
      "source": [
        "We will want to know the field of view per pixel for later."
      ]
    },
    {
      "cell_type": "code",
      "execution_count": 9,
      "id": "bbce5ee4",
      "metadata": {
        "id": "bbce5ee4",
        "outputId": "4f299fa1-6d39-41b9-b9d9-965ed947e2bc"
      },
      "outputs": [
        {
          "name": "stdout",
          "output_type": "stream",
          "text": [
            "(ASI482MC) The theoretical FOV per pixel is: 0.748 arcseconds\n"
          ]
        }
      ],
      "source": [
        "print(f'(ASI482MC) The theoretical FOV per pixel is: {ASI482MC_FOV_pixel_in_arcseconds:.3f} arcseconds')"
      ]
    },
    {
      "cell_type": "markdown",
      "id": "3fd82ba9",
      "metadata": {
        "id": "3fd82ba9"
      },
      "source": [
        "## ASI120MC-S"
      ]
    },
    {
      "cell_type": "markdown",
      "id": "23325bd6",
      "metadata": {
        "id": "23325bd6"
      },
      "source": [
        "So for the ASI120MC-S:\n",
        "* Resolution: 1.2Mega Pixels 1280×960\n",
        "* Pixel Size: 3.75um x 3.75um\n",
        "* Dimension of sensor: 4.8mm x 3.6mm"
      ]
    },
    {
      "cell_type": "code",
      "execution_count": 10,
      "id": "7e55bac2",
      "metadata": {
        "id": "7e55bac2"
      },
      "outputs": [],
      "source": [
        "ASI120MC_S_size_millimeter = (4.8, 3.6)\n",
        "ASI120MC_S_pixel_size_millimeter = 4.8/1000\n",
        "ASI120MC_S_FOV_pixel_in_arcseconds = fov(ASI120MC_S_pixel_size_millimeter)"
      ]
    },
    {
      "cell_type": "code",
      "execution_count": 11,
      "id": "4e720ce6",
      "metadata": {
        "id": "4e720ce6",
        "outputId": "c3636cd2-0b8b-48df-d662-081543fa2f6d"
      },
      "outputs": [
        {
          "name": "stdout",
          "output_type": "stream",
          "text": [
            "(ASI120MC-S) The theoretical FOV is: 10.31 x 7.73 arcmin\n"
          ]
        }
      ],
      "source": [
        "print(f'(ASI120MC-S) The theoretical FOV is: {fov(ASI120MC_S_size_millimeter[0])/60:.2f} x {fov(ASI120MC_S_size_millimeter[1])/60:.2f} arcmin')"
      ]
    },
    {
      "cell_type": "markdown",
      "id": "09fb58e8",
      "metadata": {
        "id": "09fb58e8"
      },
      "source": [
        "We will want to know the field of view per pixel for later."
      ]
    },
    {
      "cell_type": "code",
      "execution_count": 12,
      "id": "0111ac54",
      "metadata": {
        "id": "0111ac54",
        "outputId": "3f567e74-22ef-4a75-8aae-c65f8d50fdac"
      },
      "outputs": [
        {
          "name": "stdout",
          "output_type": "stream",
          "text": [
            "(ASI120MC-S) The theoretical FOV per pixel is: 0.619 arcseconds\n"
          ]
        }
      ],
      "source": [
        "print(f'(ASI120MC-S) The theoretical FOV per pixel is: {ASI120MC_S_FOV_pixel_in_arcseconds:.3f} arcseconds')"
      ]
    },
    {
      "cell_type": "markdown",
      "id": "0883fd5d",
      "metadata": {
        "id": "0883fd5d"
      },
      "source": [
        "## 150 degree \"All Sky Lens\" attachment\n",
        "\n",
        "The ASI120MC-S has an \"all sky\" lens attachment.  \n",
        "\n",
        "$\\textbf{FOV\\ (arcseconds)} = \\textbf{FOV\\ lens\\ (degrees)} * 60\\ \\dfrac{arcminutes}{1^{\\circ}} * 60\\ \\dfrac{arcseconds}{arcminute}$\n"
      ]
    },
    {
      "cell_type": "code",
      "execution_count": 38,
      "id": "5dda398c",
      "metadata": {
        "id": "5dda398c"
      },
      "outputs": [],
      "source": [
        "all_sky_FOV_in_arcseconds = 150 * 60 * 60\n",
        "all_sky_FOV_pixel_in_arcseconds = all_sky_FOV_in_arcseconds / 1280"
      ]
    },
    {
      "cell_type": "markdown",
      "id": "fd97f74c",
      "metadata": {
        "id": "fd97f74c"
      },
      "source": [
        "An estimate of the FOV of the pixel can be calculated from the resolution of the camera. It should give a close approximation."
      ]
    },
    {
      "cell_type": "code",
      "execution_count": 39,
      "id": "97f16a25",
      "metadata": {
        "id": "97f16a25",
        "outputId": "8acac5a0-ee9e-4a0b-e18e-af73c9b6f6da"
      },
      "outputs": [
        {
          "name": "stdout",
          "output_type": "stream",
          "text": [
            "(ASI120MC-S All Sky) The theoretical FOV per pixel is: 422 arcseconds\n"
          ]
        }
      ],
      "source": [
        "print(f'(ASI120MC-S All Sky) The theoretical FOV per pixel is: {all_sky_FOV_pixel_in_arcseconds:.0f} arcseconds')"
      ]
    },
    {
      "cell_type": "markdown",
      "id": "4ce27dab",
      "metadata": {
        "id": "4ce27dab"
      },
      "source": [
        "## Rotation of earth (arcseconds per second) "
      ]
    },
    {
      "cell_type": "markdown",
      "id": "b486e902",
      "metadata": {
        "id": "b486e902"
      },
      "source": [
        "$\\textbf{Single\\ Rotation\\ (arcseconds)} = \\dfrac{360^{\\circ}}{2\\pi} * 60\\ \\dfrac{arcminutes}{1^{\\circ}} * 60\\ \\dfrac{arcseconds}{arcminute}$"
      ]
    },
    {
      "cell_type": "markdown",
      "id": "11996073",
      "metadata": {
        "id": "11996073"
      },
      "source": [
        "$\\textbf{Single\\ Rotation\\ (seconds)} = 24\\ hr * 60\\ \\dfrac{min}{hr} * 60\\ \\dfrac{seconds}{min}$ \n",
        "\n",
        "The actual rotation in seconds is based on sidereal rate (23 hr 56 min 4s). It's the whole reason we have leap years. Because of this the sidereal time can be calculated: \n",
        "\n",
        "$\\textbf{Single\\ Rotation\\ (sidereal\\ seconds)} = (((23\\ hr * 60\\ \\dfrac{min}{hr}) + 56\\ min) * 60\\ \\dfrac{seconds}{min}) + 4\\ seconds$"
      ]
    },
    {
      "cell_type": "markdown",
      "id": "be564ae6",
      "metadata": {
        "id": "be564ae6"
      },
      "source": [
        "$\\textbf{Rotation\\ of\\ earth\\ (arcseconds\\ per\\ second)} = \\dfrac{Single\\ Rotation\\ (arcseconds)}{Single\\ Rotation\\ (sidereal\\ seconds)}$"
      ]
    },
    {
      "cell_type": "code",
      "execution_count": 15,
      "id": "ea48427a",
      "metadata": {
        "id": "ea48427a",
        "outputId": "c9920af2-9194-4595-e024-933da18ef370"
      },
      "outputs": [
        {
          "data": {
            "text/plain": [
              "206264.80624709633"
            ]
          },
          "execution_count": 15,
          "metadata": {},
          "output_type": "execute_result"
        }
      ],
      "source": [
        "rotation_arcseconds = (360/(2*math.pi)) * 60 * 60\n",
        "rotation_arcseconds"
      ]
    },
    {
      "cell_type": "code",
      "execution_count": 16,
      "id": "95d6ff11",
      "metadata": {
        "id": "95d6ff11",
        "outputId": "b1d312b7-c42a-4ded-d726-18f15c15897e"
      },
      "outputs": [
        {
          "data": {
            "text/plain": [
              "86400"
            ]
          },
          "execution_count": 16,
          "metadata": {},
          "output_type": "execute_result"
        }
      ],
      "source": [
        "rotation_seconds = 24 * 60 * 60\n",
        "rotation_seconds"
      ]
    },
    {
      "cell_type": "code",
      "execution_count": 17,
      "id": "e4b33433",
      "metadata": {
        "id": "e4b33433",
        "outputId": "95fabfca-756a-4a28-c84c-a916d9ac010d"
      },
      "outputs": [
        {
          "data": {
            "text/plain": [
              "86164"
            ]
          },
          "execution_count": 17,
          "metadata": {},
          "output_type": "execute_result"
        }
      ],
      "source": [
        "sidereal_rotation_seconds = (((23 * 60)+56) * 60) +4\n",
        "sidereal_rotation_seconds"
      ]
    },
    {
      "cell_type": "code",
      "execution_count": 18,
      "id": "ee81ade4",
      "metadata": {
        "id": "ee81ade4",
        "outputId": "d0fc030c-6202-4953-d69e-a16843491350"
      },
      "outputs": [
        {
          "name": "stdout",
          "output_type": "stream",
          "text": [
            "The rotational rate of earth is: 2.394 arcseconds/second\n"
          ]
        }
      ],
      "source": [
        "rotation_rate = rotation_arcseconds/sidereal_rotation_seconds\n",
        "print(f'The rotational rate of earth is: {rotation_rate:.3f} arcseconds/second')"
      ]
    },
    {
      "cell_type": "markdown",
      "id": "359e5d03",
      "metadata": {
        "id": "359e5d03"
      },
      "source": [
        "So a star on the celestial equator will have a length of 2.4 arcseconds and a star above the axis of rotation will not move."
      ]
    },
    {
      "cell_type": "markdown",
      "id": "64ba63da",
      "metadata": {
        "id": "64ba63da"
      },
      "source": [
        "## Calculating max exposure time\n",
        "\n",
        "The idea is to calculate the maximum exposure time based on the star's declination (The distance in degrees from the celestial equator). \n",
        "\n",
        "The maximum exposure time is the amount of time to hold a point of light in a particular pixel on the CCD.\n",
        "\n",
        "We do this to optimize the color absorption. The longer we can expose a pixel to the light the less atmospheric noise will matter. These effects could be light clouds, thermal effects or other phenomena. The goal is to average out a better signal to noise.\n"
      ]
    },
    {
      "cell_type": "markdown",
      "id": "b2d45718",
      "metadata": {
        "id": "b2d45718"
      },
      "source": [
        "### Why does a stars declination matter?\n",
        "\n",
        "The Polaris (north star) declination is 89° 15′ 50.8″ while Regulus declination is 11° 58′ 01.95″. The distance a star moves over time relative to a pixel on the camera is based on it's declination from the celestial equator. Polaris barely moves while Regulus while will appear to move farther or hav a greater arc across the sky.\n",
        "\n",
        "Or in other words Polaris can have a longer exposure time than Regulus."
      ]
    },
    {
      "cell_type": "markdown",
      "id": "e10b4fe0",
      "metadata": {
        "id": "e10b4fe0"
      },
      "source": [
        "In other words:"
      ]
    },
    {
      "cell_type": "markdown",
      "id": "F2NVoun7VnPJ",
      "metadata": {
        "id": "F2NVoun7VnPJ"
      },
      "source": [
        "\n",
        "$\\textbf{declination\\ (degrees)} = ((((\\textbf{value\\ (degrees)} * 60\\ \\dfrac{arcminutes}{1^{\\circ}}) + \\textbf{value\\ (arcminutes)}) * 60\\ \\dfrac{arcseconds}{arcminute})+ \\textbf{value\\ (arcseconds)}) * \\dfrac{1^{\\circ}}{3600\\ (arcseconds)}$"
      ]
    },
    {
      "cell_type": "markdown",
      "id": "24201f85",
      "metadata": {
        "id": "24201f85"
      },
      "source": [
        "$\\textbf{stars\\ expected\\ movement\\ (arcseconds per second)} = rotational\\ rate * \\dfrac{90^{\\circ} - \\lvert \\textbf{declination\\ (degrees)} \\rvert}{90^{\\circ}}$"
      ]
    },
    {
      "cell_type": "code",
      "execution_count": 19,
      "id": "c7daa4f7",
      "metadata": {
        "id": "c7daa4f7",
        "outputId": "21f516cd-aa70-432a-ad59-17f92ad61f43"
      },
      "outputs": [
        {
          "data": {
            "text/plain": [
              "89.2641111111111"
            ]
          },
          "execution_count": 19,
          "metadata": {},
          "output_type": "execute_result"
        }
      ],
      "source": [
        "# Polaris (north star) is at 89° 15′ 50.8″ \n",
        "degrees = 89\n",
        "minutes = 15\n",
        "seconds = 50.8\n",
        "\n",
        "DEC = ((((degrees*60)+minutes)*60)+seconds)/3600\n",
        "DEC"
      ]
    },
    {
      "cell_type": "code",
      "execution_count": 20,
      "id": "9f713a20",
      "metadata": {
        "id": "9f713a20",
        "outputId": "be0cbc10-243e-4e48-f6d0-a01b404512d8"
      },
      "outputs": [
        {
          "data": {
            "text/plain": [
              "0.01957352375651326"
            ]
          },
          "execution_count": 20,
          "metadata": {},
          "output_type": "execute_result"
        }
      ],
      "source": [
        "polaris_movement_per_second = rotation_rate*((90-abs(DEC))/90)\n",
        "polaris_movement_per_second"
      ]
    },
    {
      "cell_type": "code",
      "execution_count": 21,
      "id": "6dc7939f",
      "metadata": {
        "id": "6dc7939f",
        "outputId": "2870ff21-cf35-4313-e6d7-7e7ae7fdb4c9"
      },
      "outputs": [
        {
          "data": {
            "text/plain": [
              "11.967208333333332"
            ]
          },
          "execution_count": 21,
          "metadata": {},
          "output_type": "execute_result"
        }
      ],
      "source": [
        "# Regulus (brightest in Leo) is at 11° 58′ 1.95″ \n",
        "degrees = 11\n",
        "minutes = 58\n",
        "seconds = 1.95\n",
        "\n",
        "DEC = ((((degrees*60)+minutes)*60)+seconds)/3600\n",
        "DEC"
      ]
    },
    {
      "cell_type": "code",
      "execution_count": 22,
      "id": "e4f2f20b",
      "metadata": {
        "id": "e4f2f20b",
        "outputId": "532d2e5b-26a2-4d5f-eed0-3326e126b30b"
      },
      "outputs": [
        {
          "data": {
            "text/plain": [
              "2.0755534219040994"
            ]
          },
          "execution_count": 22,
          "metadata": {},
          "output_type": "execute_result"
        }
      ],
      "source": [
        "regulus_movement_per_second = rotation_rate*((90-abs(DEC))/90)\n",
        "regulus_movement_per_second"
      ]
    },
    {
      "cell_type": "code",
      "execution_count": 23,
      "id": "4b8dcf68",
      "metadata": {},
      "outputs": [
        {
          "data": {
            "text/plain": [
              "0.0002777777777777778"
            ]
          },
          "execution_count": 23,
          "metadata": {},
          "output_type": "execute_result"
        }
      ],
      "source": [
        "# Celestial Equator is at 0° 0′ 0″ \n",
        "degrees = 0\n",
        "minutes = 0\n",
        "seconds = 1\n",
        "\n",
        "DEC = ((((degrees*60)+minutes)*60)+seconds)/3600\n",
        "DEC"
      ]
    },
    {
      "cell_type": "code",
      "execution_count": 24,
      "id": "7960a2b9",
      "metadata": {},
      "outputs": [
        {
          "data": {
            "text/plain": [
              "2.393855550198737"
            ]
          },
          "execution_count": 24,
          "metadata": {},
          "output_type": "execute_result"
        }
      ],
      "source": [
        "near_celestial_equator_movement_per_second  = rotation_rate*((90-abs(DEC))/90)\n",
        "near_celestial_equator_movement_per_second "
      ]
    },
    {
      "cell_type": "markdown",
      "id": "ff769863",
      "metadata": {
        "id": "ff769863"
      },
      "source": [
        "As you can see Regulus will move 2 arcseconds while Polaris will barely move across the sky. "
      ]
    },
    {
      "cell_type": "markdown",
      "id": "73d16a69",
      "metadata": {
        "id": "73d16a69"
      },
      "source": [
        "### So what is the max exposure time?\n",
        "\n",
        "So depending on a camera's field of view per pixel, the expected movement of a star in seconds can be used to calculate the theoretical max exposure time.\n",
        "\n",
        "$\\textbf{max\\ exposure\\ time\\ (second)} = \\dfrac{FOV\\ per\\ pixel\\ (arcseconds)}{stars\\ movement\\ (arcseconds\\ per\\ second)}$ "
      ]
    },
    {
      "cell_type": "code",
      "execution_count": 25,
      "id": "a9cd0233",
      "metadata": {
        "id": "a9cd0233",
        "outputId": "7b5f2d22-9f8c-48d8-89d3-4e306d0b8374"
      },
      "outputs": [
        {
          "name": "stdout",
          "output_type": "stream",
          "text": [
            "(ASI482MC) Polaris exposure (seconds): 38\n"
          ]
        }
      ],
      "source": [
        "# Max exposure for ASI482MC on Polaris in seconds\n",
        "max_exposure = ASI482MC_FOV_pixel_in_arcseconds/polaris_movement_per_second\n",
        "print(f'(ASI482MC) Polaris exposure (seconds): {max_exposure:.0f}')"
      ]
    },
    {
      "cell_type": "code",
      "execution_count": 26,
      "id": "aa842edd",
      "metadata": {
        "id": "aa842edd",
        "outputId": "b69677bd-488c-4835-972b-c111423a1ad4"
      },
      "outputs": [
        {
          "name": "stdout",
          "output_type": "stream",
          "text": [
            "(ASI482MC) Regulus exposure (milliseconds): 360\n"
          ]
        }
      ],
      "source": [
        "# Max exposure for ASI482MC on Regulus in milliseconds\n",
        "max_exposure = (ASI482MC_FOV_pixel_in_arcseconds/regulus_movement_per_second) * 1000\n",
        "print(f'(ASI482MC) Regulus exposure (milliseconds): {max_exposure:.0f}')"
      ]
    },
    {
      "cell_type": "code",
      "execution_count": 42,
      "id": "6989d0ff",
      "metadata": {},
      "outputs": [
        {
          "name": "stdout",
          "output_type": "stream",
          "text": [
            "(ASI482MC) Celestial equator exposure (milliseconds): 312\n"
          ]
        }
      ],
      "source": [
        "# Max exposure for ASI482MC at celestial equator in milliseconds\n",
        "max_exposure = (ASI482MC_FOV_pixel_in_arcseconds/rotation_rate) * 1000\n",
        "print(f'(ASI482MC) Celestial equator exposure (milliseconds): {max_exposure:.0f}')"
      ]
    },
    {
      "cell_type": "code",
      "execution_count": 27,
      "id": "e0bf63e9",
      "metadata": {
        "id": "e0bf63e9",
        "outputId": "61ead3f7-80da-4ef0-bc01-0ec69d4432f6"
      },
      "outputs": [
        {
          "name": "stdout",
          "output_type": "stream",
          "text": [
            "(ASI120MC-S) Polaris exposure (seconds): 32\n"
          ]
        }
      ],
      "source": [
        "# Max exposure for ASI120MC-S on Polaris in seconds\n",
        "max_exposure = ASI120MC_S_FOV_pixel_in_arcseconds/polaris_movement_per_second\n",
        "print(f'(ASI120MC-S) Polaris exposure (seconds): {max_exposure:.0f}')"
      ]
    },
    {
      "cell_type": "code",
      "execution_count": 43,
      "id": "b7b7486d",
      "metadata": {
        "id": "b7b7486d",
        "outputId": "6c26580c-5493-4639-854a-9fc89fcbe1b9"
      },
      "outputs": [
        {
          "name": "stdout",
          "output_type": "stream",
          "text": [
            "(ASI120MC-S) Regulus exposure (milliseconds): 298\n"
          ]
        }
      ],
      "source": [
        "# Max exposure for ASI120MC-S on Regulus in milliseconds\n",
        "max_exposure = (ASI120MC_S_FOV_pixel_in_arcseconds/regulus_movement_per_second) * 1000\n",
        "print(f'(ASI120MC-S) Regulus exposure (milliseconds): {max_exposure:.0f}')\n"
      ]
    },
    {
      "cell_type": "markdown",
      "id": "f4fba29e",
      "metadata": {
        "id": "f4fba29e"
      },
      "source": [
        "We can also calculate the best exposure time for the \"all sky\" attachment to the ASI120MC-S. Because the image will contain some star on the celestial equator, we set the exposure based on those stars (rotational rate a 0 Declination). "
      ]
    },
    {
      "cell_type": "code",
      "execution_count": 40,
      "id": "d27f023a",
      "metadata": {
        "id": "d27f023a",
        "outputId": "1972a57a-6849-4083-e3a6-a12ef83c9f6d"
      },
      "outputs": [
        {
          "name": "stdout",
          "output_type": "stream",
          "text": [
            "(ASI120MC-S) All sky exposure (seconds): 176\n"
          ]
        }
      ],
      "source": [
        "max_exposure = all_sky_FOV_pixel_in_arcseconds/rotation_rate\n",
        "print(f'(ASI120MC-S) All sky exposure (seconds): {max_exposure:.0f}')"
      ]
    },
    {
      "cell_type": "markdown",
      "id": "2ae73a66",
      "metadata": {
        "id": "2ae73a66"
      },
      "source": [
        "# Warning: These are theoretical limits are meant to get you near max exposure time. Being a little less should help maximize results."
      ]
    }
  ],
  "metadata": {
    "colab": {
      "provenance": []
    },
    "kernelspec": {
      "display_name": "Python 3.10.4 64-bit",
      "language": "python",
      "name": "python3"
    },
    "language_info": {
      "codemirror_mode": {
        "name": "ipython",
        "version": 3
      },
      "file_extension": ".py",
      "mimetype": "text/x-python",
      "name": "python",
      "nbconvert_exporter": "python",
      "pygments_lexer": "ipython3",
      "version": "3.10.4"
    },
    "vscode": {
      "interpreter": {
        "hash": "31f2aee4e71d21fbe5cf8b01ff0e069b9275f58929596ceb00d14d90e3e16cd6"
      }
    }
  },
  "nbformat": 4,
  "nbformat_minor": 5
}
