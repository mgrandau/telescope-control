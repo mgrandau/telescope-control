{
 "cells": [
  {
   "cell_type": "markdown",
   "metadata": {},
   "source": [
    "# How to make an Ovrrlay for the Finder\n",
    "\n",
    "The finder camera is using a 150 degree (FOV) lens. The actual field of view (AFOV) is less but probably close. The image produced is 1280x960 pixels."
   ]
  },
  {
   "cell_type": "code",
   "execution_count": 1,
   "metadata": {},
   "outputs": [
    {
     "data": {
      "text/plain": [
       "8.533333333333333"
      ]
     },
     "execution_count": 1,
     "metadata": {},
     "output_type": "execute_result"
    }
   ],
   "source": [
    "# FOV per pixel \n",
    "1280/150"
   ]
  },
  {
   "cell_type": "markdown",
   "metadata": {},
   "source": [
    "## Creating a Telerad equivalent Overlay\n",
    "\n",
    "The reticle pattern is scaled so that each one of the three circles appears to cover a set area of sky: 4 degrees for the outer circle, 2 degrees for the middle circle, and 1/2 degree for the circle in the center. And so Star hopping (moving from one star to another) with the sight is very easy.\n",
    "\n",
    "<img src=\"telradpat.gif\"/>"
   ]
  }
 ],
 "metadata": {
  "interpreter": {
   "hash": "916dbcbb3f70747c44a77c7bcd40155683ae19c65e1c03b4aa3499c5328201f1"
  },
  "kernelspec": {
   "display_name": "Python 3.8.10 64-bit",
   "language": "python",
   "name": "python3"
  },
  "language_info": {
   "codemirror_mode": {
    "name": "ipython",
    "version": 3
   },
   "file_extension": ".py",
   "mimetype": "text/x-python",
   "name": "python",
   "nbconvert_exporter": "python",
   "pygments_lexer": "ipython3",
   "version": "3.8.10"
  },
  "orig_nbformat": 4
 },
 "nbformat": 4,
 "nbformat_minor": 2
}
