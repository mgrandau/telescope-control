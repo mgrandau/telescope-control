{
 "cells": [
  {
   "cell_type": "markdown",
   "metadata": {},
   "source": [
    "# Motor Control\n",
    "\n",
    "The telescope is remotely controlled using 2 stepper-motors. Each stepper-motor controls one degree of freedom. One motor spins the telescope controlling the Optical Tube Assembly's (OTA) compass heading, azimuth (AZ). The other controls the angle the OTA makes to the ground, altitude (ALT)\n",
    "\n",
    "![ALT-AZ Coordinates](Altaz-coordinates-64fd7c4.webp \"ALT-AZ Coordinates\")\n"
   ]
  },
  {
   "cell_type": "markdown",
   "metadata": {},
   "source": [
    "## Motor Physical Limits\n",
    "\n",
    "Due to the physical attachment to the telescope the motors have limited movement. Understanding the use of the telescope and these physical limits is important in understanding the implementation.\n"
   ]
  },
  {
   "cell_type": "markdown",
   "metadata": {},
   "source": [
    "\n",
    "### ALT\n",
    "\n",
    "The ALT motor moves the OTA from 0 to 90 degrees in relationship to the ground. \n",
    "\n",
    "Because the most sites have physical limits to the horizon due to things like trees and houses. So its more like 10 to 90 degrees due to the environment. Of course that may be very direction based. \n",
    "\n",
    "Understanding the physics is all about the moment arm and the degree to which the scope is balanced. We can get away with a less powerful stepper-motor (Nm) the better balanced the scope is. In a Dobsonian scope you typically have the optics balanced against the mirror. Since the pivot point may not be dead center, the eyepiece optics/camera(s) have a moment arm multiplier. The largest downward force is when the scope is at 0 degrees to the horizon, when the OTA tube itself doesn't carry some of the weight of the eyepiece optics.\n",
    "\n",
    "Based on the current configuration of the eyepiece optics, we will experimentally identify the counterweight needed to achieve 0 degrees. This should allow us to easily work what ever the horizon presents.\n",
    "\n",
    "It is also important to note that when storing the scope it is stored ant 90 degrees to the horizon. We use the ALT = 90 degrees as the home location of the motor. The motor will allow us to move a little past 90 degrees but are physically limited by the Dobsonian mount."
   ]
  },
  {
   "cell_type": "markdown",
   "metadata": {},
   "source": [
    "### AZ\n",
    "\n",
    "The AZ motor moves the OTA through some degrees of the compass heading. When tracking a star from horizon to horizon it can be at most 180 degrees.  \n",
    "\n",
    "Many sites may be limited by things like a building. So you may also be limited by that.\n",
    "\n",
    "We use a fixed belt system. This limits our motion to around 270 degrees. We will determine the maximum degree of motion experimentally. \n",
    "\n",
    "Also one of the questions is: What is the home position? You will always track east to west. But depending on the direction you are facing, north or south; that means moving the belt in a different direction. Facing direction is part of the equation to determine direction of tracking. So by convention, I will pick the center of motion as home. The idea is to point that scope basically north or south when at its storage location. \n",
    "\n",
    "Initial alignment will be by picking a well known star. Based on the time and location, the azimuth can be determined. That will be the session zero. Home location 0, will take you back to the center of motion. "
   ]
  },
  {
   "cell_type": "markdown",
   "metadata": {},
   "source": []
  },
  {
   "cell_type": "markdown",
   "metadata": {},
   "source": [
    "### Motion Control\n",
    "\n",
    "Both stepper-motors are attached to a stepper-motor controller that is used to move the motor in fractions of steps. The motor controller I will use is a custom controller I have access to. The code and notebooks will expose the interface to the custom controller board. The board uses a serial connection and commands exposed to through the interface.  That would mean anyone else looking to use this code will have to substitute their controller. \n",
    "\n",
    "There are a lot of custom things here. Everything from the weight of the scope to the motors I use. The motors used are based on physics calculations. This notebook is about testing those equations and achieving experimental results.\n",
    "\n",
    "\n"
   ]
  },
  {
   "cell_type": "markdown",
   "metadata": {},
   "source": [
    "## Setup"
   ]
  },
  {
   "cell_type": "code",
   "execution_count": 28,
   "metadata": {},
   "outputs": [
    {
     "name": "stdout",
     "output_type": "stream",
     "text": [
      "Defaulting to user installation because normal site-packages is not writeable\n",
      "Requirement already satisfied: pyserial in /home/mark/.local/lib/python3.10/site-packages (3.5)\n"
     ]
    }
   ],
   "source": [
    "!python3 -m pip install pyserial"
   ]
  },
  {
   "cell_type": "code",
   "execution_count": 43,
   "metadata": {},
   "outputs": [
    {
     "name": "stdout",
     "output_type": "stream",
     "text": [
      "['ttyACM4', 'ttyACM0']\n"
     ]
    }
   ],
   "source": [
    "import serial.tools.list_ports\n",
    "\n",
    "ports = serial.tools.list_ports.comports()\n",
    "\n",
    "print([port.name for port in ports])"
   ]
  },
  {
   "cell_type": "code",
   "execution_count": 44,
   "metadata": {},
   "outputs": [
    {
     "data": {
      "text/plain": [
       "Serial<id=0x7f47643705b0, open=True>(port='/dev/ttyACM4', baudrate=9600, bytesize=8, parity='N', stopbits=1, timeout=None, xonxoff=False, rtscts=False, dsrdtr=False)"
      ]
     },
     "execution_count": 44,
     "metadata": {},
     "output_type": "execute_result"
    }
   ],
   "source": [
    "motors = serial.Serial('/dev/ttyACM4')\n",
    "motors"
   ]
  },
  {
   "cell_type": "code",
   "execution_count": 45,
   "metadata": {},
   "outputs": [
    {
     "data": {
      "text/plain": [
       "['stepper_amis command set',\n",
       " 'Ground Teensy pin 15 to disable joysticks for system setup',\n",
       " 'f = float, n = integer, both end with space',\n",
       " 'Ad\\tSelect current axis to d (0 to 2)',\n",
       " 'B\\tRead joyMax for selected axis',\n",
       " 'C\\tGet motion status',\n",
       " 'Dd\\tSet number of microsteps per step for selected axis',\n",
       " 'Ed\\tEEPROM (0 = load, 1 = save, 2 = scramble',\n",
       " 'e\\tRun self-tests for selected axis',\n",
       " 'Fd\\tEnable/Disable Joystick (0 = disable, 1 = enable)',\n",
       " 'f\\tUpload chord',\n",
       " 'G\\tGet status dictionary 1 (major stuff)',\n",
       " 'g\\tGet status dictionary 2 (minor stuff)',\n",
       " 'Hd\\tLock/Unlock Joystick (0 = unlocked, 1 = locked)',\n",
       " 'hd\\tPrint chord d',\n",
       " 'If\\tSet run current of motor to f (mA)',\n",
       " 'i\\tRun chords on selected axis',\n",
       " 'J\\tRead joystick zero',\n",
       " 'K\\tKill motor motion always, and disable joysticks',\n",
       " 'k\\tKill motor motion (verbose mode for debugging)',\n",
       " 'Lf\\tSet hold current of motor (mA)',\n",
       " 'Nd\\tEnable limit switch for selected axis (0 = disable, 1 = enable)',\n",
       " 'Od\\tMove d relative microsteps, method 2',\n",
       " 'od\\tMove to d absolute microsteps',\n",
       " 'pd0 d1 d2\\tMove to (d0, d1, d2) absolute microsteps',\n",
       " 'Qd\\tSet limit switch polarity for selected axis (0 or 1)',\n",
       " 'Rn\\tRun stereo chords starting at chord n',\n",
       " 'Sf\\tSet the speed for the selected axis (microsteps/sec)',\n",
       " 's\\tRun first-time setup routine',\n",
       " 'Tf\\tSet the acceleration time for the selected axis (sec)',\n",
       " 'td\\tSet trigger output (0, 1, or 2 for pulse)',\n",
       " 'Us\\\\d\\tSet string data for selected axis (carriage return terminated)',\n",
       " 'Vd\\tSet motor polarity for selected axis (1 or -1)',\n",
       " 'W\\tRe-initialize motor ports, all axes',\n",
       " 'Zd\\tSet the position tracker for the selected axis (microsteps)',\n",
       " '?\\tdisplay this help screen']"
      ]
     },
     "execution_count": 45,
     "metadata": {},
     "output_type": "execute_result"
    }
   ],
   "source": [
    "motors.write(b'?')\n",
    "return_string = str(motors.read_until(expected= b'?\\tdisplay this help screen\\r\\n'),'utf-8')\n",
    "return_string.splitlines()"
   ]
  },
  {
   "cell_type": "markdown",
   "metadata": {},
   "source": [
    "Axis 0 is the altitude. It ranges from 0 to approx 140000."
   ]
  },
  {
   "cell_type": "code",
   "execution_count": 50,
   "metadata": {},
   "outputs": [
    {
     "data": {
      "text/plain": [
       "b\"{'ax': 0}\""
      ]
     },
     "execution_count": 50,
     "metadata": {},
     "output_type": "execute_result"
    }
   ],
   "source": [
    "motors.write(b'A0')\n",
    "motors.read_until(expected= b'}')"
   ]
  },
  {
   "cell_type": "markdown",
   "metadata": {},
   "source": [
    "Go to Horizontal Alt"
   ]
  },
  {
   "cell_type": "code",
   "execution_count": null,
   "metadata": {},
   "outputs": [],
   "source": [
    "motors.write(b'o140000')\n",
    "motors.read_until(expected=b\"{'alldone': 1}\\r\\n\")"
   ]
  },
  {
   "cell_type": "markdown",
   "metadata": {},
   "source": [
    "Home to zenith"
   ]
  },
  {
   "cell_type": "code",
   "execution_count": 16,
   "metadata": {},
   "outputs": [
    {
     "data": {
      "text/plain": [
       "b\"{'t': 35.25}\\r\\n{'alldone': 1}\\r\\n\""
      ]
     },
     "execution_count": 16,
     "metadata": {},
     "output_type": "execute_result"
    }
   ],
   "source": [
    "motors.write(b'o0')\n",
    "motors.read_until(expected=b\"{'alldone': 1}\\r\\n\")"
   ]
  },
  {
   "cell_type": "code",
   "execution_count": 51,
   "metadata": {},
   "outputs": [
    {
     "data": {
      "text/plain": [
       "b\"\\r\\n{'t': 30.25}\\r\\n{'alldone': 1}\\r\\n\""
      ]
     },
     "execution_count": 51,
     "metadata": {},
     "output_type": "execute_result"
    }
   ],
   "source": [
    "motors.write(b'o60000')\n",
    "motors.read_until(expected=b\"{'alldone': 1}\\r\\n\")"
   ]
  },
  {
   "cell_type": "markdown",
   "metadata": {},
   "source": [
    "Axis 1 is the Azmuth. Absolute position > 0 are counter clockwise from 0. Absolute position < 0 are clockwise from 0. Safe -110000 < azmuth < 110000"
   ]
  },
  {
   "cell_type": "code",
   "execution_count": 46,
   "metadata": {},
   "outputs": [
    {
     "data": {
      "text/plain": [
       "b\"{'ax': 1}\""
      ]
     },
     "execution_count": 46,
     "metadata": {},
     "output_type": "execute_result"
    }
   ],
   "source": [
    "motors.write(b'A1')\n",
    "motors.read_until(expected= b'}')"
   ]
  },
  {
   "cell_type": "code",
   "execution_count": 40,
   "metadata": {},
   "outputs": [
    {
     "data": {
      "text/plain": [
       "b\"{'t': 45.25}\\r\\n{'alldone': 1}\\r\\n\""
      ]
     },
     "execution_count": 40,
     "metadata": {},
     "output_type": "execute_result"
    }
   ],
   "source": [
    "motors.write(b'o0')\n",
    "motors.read_until(expected=b\"{'alldone': 1}\\r\\n\")"
   ]
  },
  {
   "cell_type": "code",
   "execution_count": 47,
   "metadata": {},
   "outputs": [
    {
     "data": {
      "text/plain": [
       "b\"\\r\\n{'t': 27.75}\\r\\n{'alldone': 1}\\r\\n\""
      ]
     },
     "execution_count": 47,
     "metadata": {},
     "output_type": "execute_result"
    }
   ],
   "source": [
    "motors.write(b'o-110000')\n",
    "motors.read_until(expected=b\"{'alldone': 1}\\r\\n\")"
   ]
  },
  {
   "cell_type": "code",
   "execution_count": 48,
   "metadata": {},
   "outputs": [
    {
     "data": {
      "text/plain": [
       "b\"{'t': 55.25}\\r\\n{'alldone': 1}\\r\\n\""
      ]
     },
     "execution_count": 48,
     "metadata": {},
     "output_type": "execute_result"
    }
   ],
   "source": [
    "motors.write(b'o110000')\n",
    "motors.read_until(expected=b\"{'alldone': 1}\\r\\n\")"
   ]
  },
  {
   "cell_type": "markdown",
   "metadata": {},
   "source": [
    "Home"
   ]
  },
  {
   "cell_type": "code",
   "execution_count": 52,
   "metadata": {},
   "outputs": [
    {
     "data": {
      "text/plain": [
       "b\"\\r\\n{'t': 15.25}\\r\\n{'alldone': 1}\\r\\n\""
      ]
     },
     "execution_count": 52,
     "metadata": {},
     "output_type": "execute_result"
    }
   ],
   "source": [
    "motors.write(b'A0')\n",
    "motors.read_until(expected= b'}')\n",
    "motors.write(b'o0')\n",
    "motors.read_until(expected=b\"{'alldone': 1}\\r\\n\")\n",
    "motors.write(b'A1')\n",
    "motors.read_until(expected= b'}')\n",
    "motors.write(b'o0')\n",
    "motors.read_until(expected=b\"{'alldone': 1}\\r\\n\")"
   ]
  }
 ],
 "metadata": {
  "interpreter": {
   "hash": "31f2aee4e71d21fbe5cf8b01ff0e069b9275f58929596ceb00d14d90e3e16cd6"
  },
  "kernelspec": {
   "display_name": "Python 3 (ipykernel)",
   "language": "python",
   "name": "python3"
  },
  "language_info": {
   "codemirror_mode": {
    "name": "ipython",
    "version": 3
   },
   "file_extension": ".py",
   "mimetype": "text/x-python",
   "name": "python",
   "nbconvert_exporter": "python",
   "pygments_lexer": "ipython3",
   "version": "3.10.4"
  }
 },
 "nbformat": 4,
 "nbformat_minor": 4
}
