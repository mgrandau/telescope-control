{
 "cells": [
  {
   "cell_type": "markdown",
   "metadata": {},
   "source": [
    "# Finder Camera \n",
    "\n",
    "This notebook is about exploring the ASICamera2 API for use with the ASI120MC-S as a finder camera for remote control and exploration of the night sky."
   ]
  },
  {
   "cell_type": "code",
   "execution_count": 1,
   "metadata": {},
   "outputs": [
    {
     "name": "stdout",
     "output_type": "stream",
     "text": [
      "Connected camera's:\n",
      "  Camera Number: 0 (ZWO ASI120MC-S(Camera))\n",
      "  Camera Number: 1 (ZWO ASI482MC)\n"
     ]
    }
   ],
   "source": [
    "import asi\n",
    "\n",
    "cameras = asi.getConnectedCameras()\n",
    "print(\"Connected camera's:\")\n",
    "\n",
    "for camera_number in cameras:\n",
    "    camera_name = (cameras[camera_number]['Name']).decode()\n",
    "    print(f'  Camera Number: {camera_number} ({camera_name})')"
   ]
  },
  {
   "cell_type": "markdown",
   "metadata": {},
   "source": [
    "### Playing with exposure and gain settings based on use (Finder Camera).\n",
    "Natural daylight: exposure around 300,000 us. gain is 0\n",
    "\n",
    "Night observing (decent image feedback): exposure around 2,000,000 us. gain around 80\n",
    "\n",
    "Night observing (long exposure): exposure around 20,000,000 us. gain around 50"
   ]
  },
  {
   "cell_type": "code",
   "execution_count": 2,
   "metadata": {},
   "outputs": [
    {
     "name": "stderr",
     "output_type": "stream",
     "text": [
      "INFO:     Started server process [19763]\n",
      "INFO:     Waiting for application startup.\n",
      "INFO:     Application startup complete.\n",
      "INFO:     Uvicorn running on http://0.0.0.0:8000 (Press CTRL+C to quit)\n"
     ]
    }
   ],
   "source": [
    "from finder_camera import FinderCamera\n",
    "import uvicorn\n",
    "from fastapi import FastAPI\n",
    "from fastapi.responses import StreamingResponse\n",
    "import threading\n",
    "\n",
    "app = FastAPI()\n",
    "\n",
    "camera: FinderCamera = None\n",
    "\n",
    "def run():\n",
    "    uvicorn.run(app, host=\"0.0.0.0\")\n",
    "      \n",
    "def start_api():\n",
    "    _api_thread = threading.Thread(target=run)\n",
    "    _api_thread.start()\n",
    "    \n",
    "def create_stream(): \n",
    "    global camera\n",
    "    camera = FinderCamera({ \n",
    "        'Camera ID': 0, \n",
    "        'Exposure_Time_In_us': 200 * 1000, \n",
    "        'Gain': 82, \n",
    "        'WhiteBalance_Red': 55, \n",
    "        'WhiteBalance_Blue': 77,\n",
    "        'Height': 960,\n",
    "        'Width': 1280,\n",
    "        'Mode': 'RGB24',\n",
    "        'Overlay_Filename': 'overlays/alignment-cross-hair.png',\n",
    "        'Overly_Height_Offset': -20,\n",
    "        'Overly_Width_Offset': -18\n",
    "    })     \n",
    "    while True:\n",
    "        yield (b'--frame\\r\\n'\n",
    "               b'Content-Type: image/jpeg\\r\\n\\r\\n' + bytearray(camera.get_frame()) + b'\\r\\n\\r\\n')\n",
    "      \n",
    "@app.get(\"/\")\n",
    "def get_video_stream():\n",
    "    return StreamingResponse(create_stream(), media_type='multipart/x-mixed-replace; boundary=frame')\n",
    "\n",
    "start_api()"
   ]
  },
  {
   "cell_type": "code",
   "execution_count": 3,
   "metadata": {},
   "outputs": [
    {
     "data": {
      "text/html": [
       "<img src=\"http://192.168.0.30:8000/\"/>\n"
      ],
      "text/plain": [
       "<IPython.core.display.HTML object>"
      ]
     },
     "metadata": {},
     "output_type": "display_data"
    },
    {
     "name": "stdout",
     "output_type": "stream",
     "text": [
      "INFO:     192.168.0.11:45422 - \"GET / HTTP/1.1\" 200 OK\n"
     ]
    }
   ],
   "source": [
    "%%HTML \n",
    "<img src=\"http://192.168.0.30:8000/\"/>"
   ]
  }
 ],
 "metadata": {
  "interpreter": {
   "hash": "97cc609b13305c559618ec78a438abc56230b9381f827f22d070313b9a1f3777"
  },
  "kernelspec": {
   "display_name": "Python 3 (ipykernel)",
   "language": "python",
   "name": "python3"
  },
  "language_info": {
   "codemirror_mode": {
    "name": "ipython",
    "version": 3
   },
   "file_extension": ".py",
   "mimetype": "text/x-python",
   "name": "python",
   "nbconvert_exporter": "python",
   "pygments_lexer": "ipython3",
   "version": "3.10.4"
  }
 },
 "nbformat": 4,
 "nbformat_minor": 4
}
