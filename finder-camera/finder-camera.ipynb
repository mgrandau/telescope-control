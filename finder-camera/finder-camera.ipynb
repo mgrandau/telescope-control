{
 "cells": [
  {
   "cell_type": "markdown",
   "metadata": {},
   "source": [
    "# Finder Camera \n",
    "\n",
    "This notebook is about exploring the ASICamera2 API for use with the ASI120MC-S as a finder camera for remote control and exploration of the night sky."
   ]
  },
  {
   "cell_type": "markdown",
   "metadata": {},
   "source": [
    "## Setup\n",
    "\n",
    "This project contains the ASI_linux_mac_SDK. If you need a different or updated driver please go [here](https://download.astronomy-imaging-camera.com/for-developer/). Read the [README.TXT](ASI_linux_mac_SDK_V1.20.3/lib/README.txt) for how to test that driver is installed correctly.\n",
    "\n",
    "[Pyasi](https://github.com/j0r1/pyasi) is a [Cython](https://cython.org/) wrapper around some ASI SDK. This should allow direct calls from python."
   ]
  },
  {
   "cell_type": "markdown",
   "metadata": {},
   "source": [
    "```\n",
    "sudo pip3 install cython numpy scipy opencv-python fastapi uvicorn\n",
    "```"
   ]
  },
  {
   "cell_type": "markdown",
   "metadata": {},
   "source": [
    "## Exploring Cython\n",
    "\n",
    "Documentation for Cython can be found [here](https://cython.readthedocs.io/en/latest/).\n",
    "\n",
    "Full documentation on compiling with a jupyter notebook can be found [here](https://cython.readthedocs.io/en/latest/src/userguide/source_files_and_compilation.html#compiling-notebook)\n"
   ]
  },
  {
   "cell_type": "code",
   "execution_count": null,
   "metadata": {
    "vscode": {
     "languageId": "python"
    }
   },
   "outputs": [],
   "source": [
    "%load_ext Cython"
   ]
  },
  {
   "cell_type": "code",
   "execution_count": null,
   "metadata": {
    "vscode": {
     "languageId": "python"
    }
   },
   "outputs": [],
   "source": [
    "%%cython\n",
    "\n",
    "a: cython.int = 0\n",
    "for i in range(10):\n",
    "    a += i\n",
    "print(a)"
   ]
  },
  {
   "cell_type": "code",
   "execution_count": null,
   "metadata": {
    "vscode": {
     "languageId": "python"
    }
   },
   "outputs": [],
   "source": [
    "%%cython --annotate\n",
    "\n",
    "cdef int a = 0\n",
    "for i in range(10):\n",
    "    a += i\n",
    "print(a)"
   ]
  },
  {
   "cell_type": "markdown",
   "metadata": {},
   "source": [
    "You need to place the libASICamera2 library files in the correct place so that asi.cpython-38-x86_64-linux-gnu.so can find it\n",
    "\n",
    "```\n",
    "sudo cp ASI_linux_mac_SDK_V1.20.3/lib/x64/* /lib/x86_64-linux-gnu\n",
    "```\n"
   ]
  },
  {
   "cell_type": "markdown",
   "metadata": {},
   "source": [
    "\n",
    "You need to install the cython asi module to your python.\n",
    "\n",
    "```\n",
    "sudo python3 setup.py install\n",
    "```"
   ]
  },
  {
   "cell_type": "markdown",
   "metadata": {},
   "source": [
    "If there are issues you can see the dependency locations in play:\n",
    "\n",
    "```\n",
    "ldd /home/mark/src/telescope-finder-camera/.env/lib/python3.8/site-packages/asi.cpython-38-x86_64-linux-gnu.so\n",
    "```"
   ]
  },
  {
   "cell_type": "code",
   "execution_count": null,
   "metadata": {
    "vscode": {
     "languageId": "python"
    }
   },
   "outputs": [],
   "source": [
    "import numpy as np\n",
    "import scipy.misc\n",
    "import asi\n",
    "\n",
    "# List the connected camera's\n",
    "cameras = asi.getConnectedCameras()\n",
    "print(\"Connected camera's:\")\n",
    "\n",
    "for camera_number in cameras:\n",
    "    print(cameras[camera_number]['Name'])"
   ]
  },
  {
   "cell_type": "code",
   "execution_count": null,
   "metadata": {
    "vscode": {
     "languageId": "python"
    }
   },
   "outputs": [],
   "source": [
    "print(dir(asi))\n",
    "print(dir(asi.Camera))"
   ]
  },
  {
   "cell_type": "code",
   "execution_count": 1,
   "metadata": {
    "vscode": {
     "languageId": "python"
    }
   },
   "outputs": [],
   "source": [
    "import asi\n",
    "import cv2\n",
    "from typing import Optional\n",
    "\n",
    "class VideoCamera(object):\n",
    "    _video = None\n",
    "    _exposure = 22000000\n",
    "    _offset_cross = (-12,-8)\n",
    "    _gain = 82\n",
    "    last_image: Optional[bytes] = None\n",
    "\n",
    "    def __init__(self):\n",
    "        self._video = asi.Camera(0)\n",
    "        self._video.setCaptureFrameFormat(1280, 960, 1, \"RGB24\")\n",
    "        self._video.setControlValueManual(\"ASI_GAIN\", self._gain)\n",
    "        self._video.setControlValueManual(\"ASI_WB_R\", 55)\n",
    "        self._video.setControlValueManual(\"ASI_WB_B\", 77)\n",
    "\n",
    "    def __del__(self):\n",
    "        del self._video\n",
    "\n",
    "    def get_frame(self) -> bytes:\n",
    "        self.last_image, bin, success = self._video.grab(self._exposure)\n",
    "        b,g,r = cv2.split(self.last_image)\n",
    "        corrected_image = cv2.merge ( (r, g, b) )\n",
    "        #print(self.last_image.shape)\n",
    "        png = corrected_image[80-self._offset_cross[0]:880-self._offset_cross[0],240-self._offset_cross[1]:1040-self._offset_cross[1]]\n",
    "        #print(png.shape)\n",
    "        #ret, png = cv2.imencode('.png', self.last_image)\n",
    "\n",
    "        cross = cv2.imread('overlays/alignment-cross-hair.png')\n",
    "        #print(cross.shape)\n",
    "        #overlay = cv2.imencode('.png',cv2.imread('cross-hair.png'))\n",
    "        added_image = cv2.addWeighted(png,1,cross,1,0,dtype = cv2.CV_32F)\n",
    "        \n",
    "        ret, jpeg = cv2.imencode('.jpg', added_image)\n",
    "        return jpeg.tobytes()\n",
    "\n"
   ]
  },
  {
   "cell_type": "code",
   "execution_count": 2,
   "metadata": {
    "vscode": {
     "languageId": "python"
    }
   },
   "outputs": [
    {
     "name": "stderr",
     "output_type": "stream",
     "text": [
      "INFO:     Started server process [12488]\n",
      "INFO:     Waiting for application startup.\n",
      "INFO:     Application startup complete.\n",
      "INFO:     Uvicorn running on http://127.0.0.1:8000 (Press CTRL+C to quit)\n"
     ]
    },
    {
     "name": "stdout",
     "output_type": "stream",
     "text": [
      "INFO:     127.0.0.1:52202 - \"GET / HTTP/1.1\" 200 OK\n"
     ]
    }
   ],
   "source": [
    "import uvicorn\n",
    "from fastapi import FastAPI\n",
    "from fastapi.responses import StreamingResponse\n",
    "import threading\n",
    "\n",
    "app = FastAPI()\n",
    "\n",
    "def run():\n",
    "    uvicorn.run(app)\n",
    "      \n",
    "def start_api():\n",
    "    _api_thread = threading.Thread(target=run)\n",
    "    _api_thread.start()\n",
    "    \n",
    "def create_stream(): \n",
    "    camera: VideoCamera  = VideoCamera()    \n",
    "    while True:\n",
    "        yield (b'--frame\\r\\n'\n",
    "               b'Content-Type: image/jpeg\\r\\n\\r\\n' + bytearray(camera.get_frame()) + b'\\r\\n\\r\\n')\n",
    "      \n",
    "@app.get(\"/\")\n",
    "def get_video_stream():\n",
    "    return StreamingResponse(create_stream(), media_type='multipart/x-mixed-replace; boundary=frame')\n",
    "\n",
    "start_api()"
   ]
  },
  {
   "cell_type": "code",
   "execution_count": null,
   "metadata": {
    "vscode": {
     "languageId": "python"
    }
   },
   "outputs": [],
   "source": [
    "%%HTML \n",
    "<img src=\"http://127.0.0.1:8000/\" width=640 />"
   ]
  }
 ],
 "metadata": {
  "kernelspec": {
   "display_name": "Python 3 (ipykernel)",
   "language": "python",
   "name": "python3"
  },
  "vscode": {
   "interpreter": {
    "hash": "31f2aee4e71d21fbe5cf8b01ff0e069b9275f58929596ceb00d14d90e3e16cd6"
   }
  }
 },
 "nbformat": 4,
 "nbformat_minor": 4
}
