{
 "cells": [
  {
   "cell_type": "markdown",
   "metadata": {},
   "source": [
    "# OTA Camera (Daylight Settings)\n",
    "\n",
    "This notebook is about exploring the ASICamera2 API for use with the ASI482MC as a camera through the Optical Tube Assembly (OTA) for remote control and exploration of the night sky."
   ]
  },
  {
   "cell_type": "markdown",
   "metadata": {},
   "source": [
    "## Includes "
   ]
  },
  {
   "cell_type": "code",
   "execution_count": 10,
   "metadata": {},
   "outputs": [],
   "source": [
    "import numpy as np\n",
    "import scipy.misc\n",
    "import asi\n",
    "import cv2\n",
    "from typing import Optional"
   ]
  },
  {
   "cell_type": "markdown",
   "metadata": {},
   "source": [
    "## Identify Camera by Number"
   ]
  },
  {
   "cell_type": "code",
   "execution_count": 11,
   "metadata": {},
   "outputs": [
    {
     "name": "stdout",
     "output_type": "stream",
     "text": [
      "Connected camera's:\n",
      "  Camera Number: 0 (ZWO ASI120MC-S(Camera))\n",
      "  Camera Number: 1 (ZWO ASI482MC)\n"
     ]
    }
   ],
   "source": [
    "cameras = asi.getConnectedCameras()\n",
    "print(\"Connected camera's:\")\n",
    "\n",
    "for camera_number in cameras:\n",
    "    camera_name = (cameras[camera_number]['Name']).decode()\n",
    "    print(f'  Camera Number: {camera_number} ({camera_name})')\n"
   ]
  },
  {
   "cell_type": "markdown",
   "metadata": {},
   "source": [
    "### Playing with exposure and gain settings based on use (Finder Camera).\n",
    "Natural daylight: exposure around 300,000 us. gain is 0\n",
    "\n",
    "Night observing (decent image feedback): exposure around 2,000,000 us. gain around 80\n",
    "\n",
    "Night observing (long exposure): exposure around 20,000,000 us. gain around 50"
   ]
  },
  {
   "cell_type": "code",
   "execution_count": 5,
   "metadata": {},
   "outputs": [],
   "source": [
    "\n",
    "\n",
    "class VideoCamera(object):\n",
    "    _video = None\n",
    "    _exposure = 3400 #2000000\n",
    "    _offset_cross = (-12,-8)\n",
    "    _gain = 0 #82\n",
    "    last_image: Optional[bytes] = None\n",
    "\n",
    "    def __init__(self):\n",
    "        self._video = asi.Camera(1)\n",
    "        \n",
    "        self._video.setCaptureFrameFormat(1920, 1080, 1, \"RGB24\")\n",
    "        self._video.setControlValueManual(\"ASI_GAIN\", self._gain)\n",
    "        self._video.setControlValueManual(\"ASI_WB_R\", 55)\n",
    "        self._video.setControlValueManual(\"ASI_WB_B\", 80)\n",
    "\n",
    "    def __del__(self):\n",
    "        del self._video\n",
    "\n",
    "    def get_frame(self) -> bytes:\n",
    "        self.last_image, bin, success = self._video.grab(self._exposure)\n",
    "        b,g,r = cv2.split(self.last_image)\n",
    "        corrected_image = cv2.merge ( (r, g, b) )\n",
    "\n",
    "        png = corrected_image[80-self._offset_cross[0]:880-self._offset_cross[0],240-self._offset_cross[1]:1040-self._offset_cross[1]]\n",
    "        \n",
    "        ret, jpeg = cv2.imencode('.jpg', png)\n",
    "        return jpeg.tobytes()\n",
    "\n"
   ]
  },
  {
   "cell_type": "code",
   "execution_count": 6,
   "metadata": {},
   "outputs": [],
   "source": [
    "import uvicorn\n",
    "from fastapi import FastAPI\n",
    "from fastapi.responses import StreamingResponse\n",
    "import threading\n",
    "\n",
    "app = FastAPI()\n",
    "\n",
    "camera: VideoCamera  = None\n",
    "\n",
    "def run():\n",
    "    uvicorn.run(app, host=\"0.0.0.0\", port=8001)\n",
    "      \n",
    "def start_api():\n",
    "    _api_thread = threading.Thread(target=run)\n",
    "    _api_thread.start()\n",
    "    \n",
    "def create_stream():\n",
    "    global camera\n",
    "    camera = VideoCamera()    \n",
    "    while True:\n",
    "        yield (b'--frame\\r\\n'\n",
    "               b'Content-Type: image/jpeg\\r\\n\\r\\n' + bytearray(camera.get_frame()) + b'\\r\\n\\r\\n')\n",
    "      \n",
    "@app.get(\"/\")\n",
    "def get_video_stream():\n",
    "    return StreamingResponse(create_stream(), media_type='multipart/x-mixed-replace; boundary=frame')\n",
    "\n",
    "start_api()"
   ]
  },
  {
   "cell_type": "code",
   "execution_count": 7,
   "metadata": {},
   "outputs": [
    {
     "data": {
      "text/html": [
       "<img src=\"http://192.168.0.30:8001/\" width=640 />\n"
      ],
      "text/plain": [
       "<IPython.core.display.HTML object>"
      ]
     },
     "metadata": {},
     "output_type": "display_data"
    }
   ],
   "source": [
    "%%HTML \n",
    "<img src=\"http://192.168.0.30:8001/\" width=640 />"
   ]
  },
  {
   "cell_type": "markdown",
   "metadata": {},
   "source": []
  },
  {
   "cell_type": "code",
   "execution_count": 56,
   "metadata": {},
   "outputs": [
    {
     "name": "stdout",
     "output_type": "stream",
     "text": [
      "{'value': 55, 'auto': False}\n",
      "{'value': 88, 'auto': False}\n"
     ]
    },
    {
     "name": "stderr",
     "output_type": "stream",
     "text": [
      "ERROR:    Exception in ASGI application\n",
      "Traceback (most recent call last):\n",
      "  File \"/usr/local/lib/python3.10/dist-packages/uvicorn/protocols/http/h11_impl.py\", line 404, in run_asgi\n",
      "    result = await app(  # type: ignore[func-returns-value]\n",
      "  File \"/usr/local/lib/python3.10/dist-packages/uvicorn/middleware/proxy_headers.py\", line 78, in __call__\n",
      "    return await self.app(scope, receive, send)\n",
      "  File \"/usr/local/lib/python3.10/dist-packages/fastapi/applications.py\", line 269, in __call__\n",
      "    await super().__call__(scope, receive, send)\n",
      "  File \"/usr/local/lib/python3.10/dist-packages/starlette/applications.py\", line 124, in __call__\n",
      "    await self.middleware_stack(scope, receive, send)\n",
      "  File \"/usr/local/lib/python3.10/dist-packages/starlette/middleware/errors.py\", line 184, in __call__\n",
      "    raise exc\n",
      "  File \"/usr/local/lib/python3.10/dist-packages/starlette/middleware/errors.py\", line 162, in __call__\n",
      "    await self.app(scope, receive, _send)\n",
      "  File \"/usr/local/lib/python3.10/dist-packages/starlette/exceptions.py\", line 93, in __call__\n",
      "    raise exc\n",
      "  File \"/usr/local/lib/python3.10/dist-packages/starlette/exceptions.py\", line 82, in __call__\n",
      "    await self.app(scope, receive, sender)\n",
      "  File \"/usr/local/lib/python3.10/dist-packages/fastapi/middleware/asyncexitstack.py\", line 21, in __call__\n",
      "    raise e\n",
      "  File \"/usr/local/lib/python3.10/dist-packages/fastapi/middleware/asyncexitstack.py\", line 18, in __call__\n",
      "    await self.app(scope, receive, send)\n",
      "  File \"/usr/local/lib/python3.10/dist-packages/starlette/routing.py\", line 670, in __call__\n",
      "    await route.handle(scope, receive, send)\n",
      "  File \"/usr/local/lib/python3.10/dist-packages/starlette/routing.py\", line 266, in handle\n",
      "    await self.app(scope, receive, send)\n",
      "  File \"/usr/local/lib/python3.10/dist-packages/starlette/routing.py\", line 68, in app\n",
      "    await response(scope, receive, send)\n",
      "  File \"/usr/local/lib/python3.10/dist-packages/starlette/responses.py\", line 253, in __call__\n",
      "    async with anyio.create_task_group() as task_group:\n",
      "  File \"/usr/local/lib/python3.10/dist-packages/anyio/_backends/_asyncio.py\", line 662, in __aexit__\n",
      "    raise exceptions[0]\n",
      "  File \"/usr/local/lib/python3.10/dist-packages/starlette/responses.py\", line 256, in wrap\n",
      "    await func()\n",
      "  File \"/usr/local/lib/python3.10/dist-packages/starlette/responses.py\", line 245, in stream_response\n",
      "    async for chunk in self.body_iterator:\n",
      "  File \"/usr/local/lib/python3.10/dist-packages/starlette/concurrency.py\", line 63, in iterate_in_threadpool\n",
      "    yield await anyio.to_thread.run_sync(_next, iterator)\n",
      "  File \"/usr/local/lib/python3.10/dist-packages/anyio/to_thread.py\", line 31, in run_sync\n",
      "    return await get_asynclib().run_sync_in_worker_thread(\n",
      "  File \"/usr/local/lib/python3.10/dist-packages/anyio/_backends/_asyncio.py\", line 937, in run_sync_in_worker_thread\n",
      "    return await future\n",
      "  File \"/usr/local/lib/python3.10/dist-packages/anyio/_backends/_asyncio.py\", line 867, in run\n",
      "    result = context.run(func, *args)\n",
      "  File \"/usr/local/lib/python3.10/dist-packages/starlette/concurrency.py\", line 53, in _next\n",
      "    return next(iterator)\n",
      "  File \"/tmp/ipykernel_47419/3861864977.py\", line 22, in create_stream\n",
      "    b'Content-Type: image/jpeg\\r\\n\\r\\n' + bytearray(camera.get_frame()) + b'\\r\\n\\r\\n')\n",
      "  File \"/tmp/ipykernel_47419/3117197785.py\", line 23, in get_frame\n",
      "    self.last_image, bin, success = self._video.grab(self._exposure)\n",
      "  File \"pyasi/asi.pyx\", line 341, in asi.Camera.grab\n",
      "  File \"pyasi/asi.pyx\", line 388, in asi.Camera._grabSingle\n",
      "asi.ASIException: Exposure seems to have failed\n"
     ]
    }
   ],
   "source": [
    "print(camera._video.setControlValueManual(\"ASI_WB_R\",55))\n",
    "print(camera._video.setControlValueManual(\"ASI_WB_B\",88))\n"
   ]
  }
 ],
 "metadata": {
  "interpreter": {
   "hash": "97cc609b13305c559618ec78a438abc56230b9381f827f22d070313b9a1f3777"
  },
  "kernelspec": {
   "display_name": "Python 3 (ipykernel)",
   "language": "python",
   "name": "python3"
  },
  "language_info": {
   "codemirror_mode": {
    "name": "ipython",
    "version": 3
   },
   "file_extension": ".py",
   "mimetype": "text/x-python",
   "name": "python",
   "nbconvert_exporter": "python",
   "pygments_lexer": "ipython3",
   "version": "3.10.4"
  }
 },
 "nbformat": 4,
 "nbformat_minor": 4
}
