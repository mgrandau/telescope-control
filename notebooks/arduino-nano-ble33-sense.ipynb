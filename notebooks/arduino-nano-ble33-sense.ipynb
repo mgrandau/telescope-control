{
 "cells": [
  {
   "cell_type": "markdown",
   "metadata": {},
   "source": [
    "## Setting up"
   ]
  },
  {
   "cell_type": "markdown",
   "metadata": {},
   "source": [
    "# Arduino Nano BLE33 Sense\n",
    "\n",
    "This is a [micro-controller board](./ABX00031-datasheet.pdf) that has a few sensors on it. I will be specifically looking at 6 channels of the IMU, (3 acceleration channels and the 3 magnetic field channels). The acceleration channels will be used to figure the angle of the Optical Tube Assembly (OTA), commonly refereed to as the altitude (ALT).  The 3 magnetic field channels will be used to determine the direction the OTA is pointed, commonly refereed to as the azimuth (AZ). \n",
    "\n",
    "I want to see how accurate they are.  I do know that the ALT/AZ can be identified by the stars (image plate), time of day and location. If the IMU can be used to some degree we mat be able to get some basic functionality without having to process the image plates.\n",
    "\n",
    "The BLE33 Sense can also be used to run a machine learning model. It may be feasible if the accuracy is good enough to determine the Declination the scope is pointed at and to do star tracking based on that.  \n"
   ]
  },
  {
   "cell_type": "code",
   "execution_count": 2,
   "metadata": {},
   "outputs": [
    {
     "name": "stdout",
     "output_type": "stream",
     "text": [
      "Defaulting to user installation because normal site-packages is not writeable\n",
      "Requirement already satisfied: pyserial in /home/mark/.local/lib/python3.10/site-packages (3.5)\n"
     ]
    }
   ],
   "source": [
    "!python3 -m pip install pyserial"
   ]
  },
  {
   "cell_type": "code",
   "execution_count": 3,
   "metadata": {},
   "outputs": [
    {
     "name": "stdout",
     "output_type": "stream",
     "text": [
      "['ttyACM0']\n"
     ]
    }
   ],
   "source": [
    "import serial.tools.list_ports\n",
    "\n",
    "ports = serial.tools.list_ports.comports()\n",
    "\n",
    "print([port.name for port in ports])"
   ]
  },
  {
   "cell_type": "code",
   "execution_count": 4,
   "metadata": {},
   "outputs": [],
   "source": [
    "sensors = serial.Serial('/dev/ttyACM0')"
   ]
  },
  {
   "cell_type": "code",
   "execution_count": 5,
   "metadata": {},
   "outputs": [],
   "source": [
    "import threading\n",
    "#values\n",
    "#['aX', 'aY', 'aZ', 'mX', 'mY', 'mZ\\r\\n']\n",
    "\n",
    "accelerometer = {}\n",
    "magnetometer = {}\n",
    "\n",
    "def read_sensors():\n",
    "    global accelerometer\n",
    "    global magnetometer\n",
    "\n",
    "    while True:\n",
    "        str_values = sensors.read_until(expected=b\"\\r\\n\").decode().split(\"\\t\")\n",
    "        if len(str_values) == 6:\n",
    "            accelerometer = {'aX' : float(str_values[0]), 'aZ' : float(str_values[1]), 'aY' : float(str_values[2])}\n",
    "            magnetometer = {'mX' : float(str_values[3]), 'mZ' : float(str_values[4]), 'mY' : float(str_values[5])}\n",
    "\n",
    "threading.Thread(target=read_sensors).start()\n",
    "#str_values\n",
    "#values = line.split(\"\\t\")\n",
    "\n",
    "#print(values)\n",
    "#print(motors.read_until(expected=b\"\\r\\n\").decode())"
   ]
  },
  {
   "cell_type": "code",
   "execution_count": 6,
   "metadata": {},
   "outputs": [
    {
     "data": {
      "text/plain": [
       "({'aX': -0.03, 'aZ': -1.01, 'aY': -0.03},\n",
       " {'mX': -4.96, 'mY': 36.77, 'mZ': 30.29})"
      ]
     },
     "execution_count": 6,
     "metadata": {},
     "output_type": "execute_result"
    }
   ],
   "source": [
    "accelerometer, magnetometer"
   ]
  },
  {
   "cell_type": "code",
   "execution_count": 5,
   "metadata": {},
   "outputs": [
    {
     "data": {
      "text/plain": [
       "{'aZ': 0.99, 'aX': -0.04, 'aY': -0.1}"
      ]
     },
     "execution_count": 5,
     "metadata": {},
     "output_type": "execute_result"
    }
   ],
   "source": [
    "#({'aX': 0.99, 'aY': -0.06, 'aZ': -0.1}, {'mX': 40.0, 'mY': 4.65, 'mZ': 31.58})\n",
    "#({'aX': 0.99, 'aY': -0.06, 'aZ': -0.1}, {'mX': 41.24, 'mY': -7.71, 'mZ': 29.0})\n",
    "hold = accelerometer\n",
    "hold"
   ]
  },
  {
   "cell_type": "markdown",
   "metadata": {},
   "source": [
    "## Calculate the tilt with respect to _x_ (ALT)\n",
    "\n",
    "From this [post](https://www.digikey.com/en/articles/using-an-accelerometer-for-inclination-sensing).\n",
    "\n",
    "You need to do this because the accelerometor is sinasoidal in nature."
   ]
  },
  {
   "cell_type": "code",
   "execution_count": 80,
   "metadata": {},
   "outputs": [
    {
     "name": "stdout",
     "output_type": "stream",
     "text": [
      "{'aX': 0.99, 'aZ': -0.04, 'aY': -0.11}\n"
     ]
    },
    {
     "data": {
      "text/plain": [
       "83.25726133339383"
      ]
     },
     "execution_count": 80,
     "metadata": {},
     "output_type": "execute_result"
    }
   ],
   "source": [
    "import math \n",
    "print(accelerometer)\n",
    "tiltX = math.atan(accelerometer['aX']/math.sqrt((accelerometer['aY']*accelerometer['aY']) + (accelerometer['aZ']*accelerometer['aZ'])))*(180/math.pi)\n",
    "tiltX               "
   ]
  },
  {
   "cell_type": "markdown",
   "metadata": {},
   "source": [
    "There is offset error do to a few things; like the non-perfect attachment of the sensor. It has a slight angle. In the 3 axis. So I measured calculated angles when I knew the angle based on putting a level on the scope. I then used the 2 points to linearize the offset to be applied. Thus making the angle fit better."
   ]
  },
  {
   "cell_type": "code",
   "execution_count": 78,
   "metadata": {},
   "outputs": [
    {
     "name": "stdout",
     "output_type": "stream",
     "text": [
      "84.74201612028637\n"
     ]
    },
    {
     "data": {
      "text/plain": [
       "(1.0620469528627952, 1.8061223774590878)"
      ]
     },
     "execution_count": 78,
     "metadata": {},
     "output_type": "execute_result"
    }
   ],
   "source": [
    "calculated90 = 83.04141110222139\n",
    "calculated0 = -1.7006050180649772\n",
    "\n",
    "#y=mx+b y= angle  and x= offset\n",
    "m= (90-0)/(calculated90 - calculated0)\n",
    "b= 0 - (m * calculated0)\n",
    "\n",
    "m,b"
   ]
  },
  {
   "cell_type": "markdown",
   "metadata": {},
   "source": [
    "The following cell reports the Altitude for ALT/AZ So we can con vert to RA/DEC"
   ]
  },
  {
   "cell_type": "code",
   "execution_count": 81,
   "metadata": {},
   "outputs": [
    {
     "name": "stdout",
     "output_type": "stream",
     "text": [
      "{'aX': 0.99, 'aZ': -0.04, 'aY': -0.11}\n"
     ]
    },
    {
     "data": {
      "text/plain": [
       "90.22924308029143"
      ]
     },
     "execution_count": 81,
     "metadata": {},
     "output_type": "execute_result"
    }
   ],
   "source": [
    "print(accelerometer)\n",
    "m*(math.atan(accelerometer['aX']/math.sqrt((accelerometer['aY']*accelerometer['aY']) + (accelerometer['aZ']*accelerometer['aZ'])))*(180/math.pi)) + b"
   ]
  },
  {
   "cell_type": "markdown",
   "metadata": {},
   "source": [
    "## Determine Compas Heading (AZmuth)\n",
    "\n",
    "https://www.w3.org/TR/magnetometer/"
   ]
  },
  {
   "cell_type": "code",
   "execution_count": 273,
   "metadata": {},
   "outputs": [],
   "source": [
    "\n",
    "def calibrate_heading( expected_heading : float ) -> float :\n",
    "    calculated_heading = math.atan2(magnetometer['mY'],magnetometer['mX']) * (180 / math.pi)\n",
    "    return expected_heading - calculated_heading                      \n",
    "\n",
    "offset = calibrate_heading(280)\n"
   ]
  },
  {
   "cell_type": "code",
   "execution_count": 274,
   "metadata": {},
   "outputs": [
    {
     "data": {
      "text/plain": [
       "279"
      ]
     },
     "execution_count": 274,
     "metadata": {},
     "output_type": "execute_result"
    }
   ],
   "source": [
    "int((math.atan2(magnetometer['mZ'], magnetometer['mY']) * (180 / math.pi)) + offset)"
   ]
  }
 ],
 "metadata": {
  "kernelspec": {
   "display_name": "Python 3 (ipykernel)",
   "language": "python",
   "name": "python3"
  },
  "language_info": {
   "codemirror_mode": {
    "name": "ipython",
    "version": 3
   },
   "file_extension": ".py",
   "mimetype": "text/x-python",
   "name": "python",
   "nbconvert_exporter": "python",
   "pygments_lexer": "ipython3",
   "version": "3.10.4"
  }
 },
 "nbformat": 4,
 "nbformat_minor": 4
}
