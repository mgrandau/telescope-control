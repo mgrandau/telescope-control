{
 "cells": [
  {
   "cell_type": "markdown",
   "metadata": {},
   "source": [
    "# GoTo Scope\n",
    "\n",
    "One of the first pieces of functionality empowered by the automation of the 2 axis of the Dobsonian telescope is the ability to go to a specific position in the skys. The exact positions of stellar objects are well documented. A very common coordinate framework is based upon the polar coordinates; RA/Dec (Right Ascension/Declination) in degrees.\n",
    "\n",
    "But to use RA/Dec it must be converted to AltAz (Altitude/Azimuth). The AltAz coordinate system is a more convenient system for the telescope to use. The AltAz coordinate system is defined by the telescope's location on the sky, and the location of the object in the sky. The AltAz is based on the polar coordinates that each of the axis of automation enable. Azimuth is the angle to the right of the North (compass heading), and Altitude is the angle above the horizon.\n",
    "\n",
    "Our motorized telescope is limited to its degrees of motion. \n",
    "\n",
    "The Altitude goes from 0 degrees, straight up, to hopefully 90 degrees, horizontal to the horizon. Thee reality is your viewing site limits how close to horizontal you can achieve. In addition the strength of the motor that controls this axis also limits how far you can go if the telescope is not well balanced, there tends to me weight out near the moment arm of the telescope; cameras, secondary mirror ect.\n",
    "\n",
    "The Azimuth is limited because the its motion is limited because the drive belts and the angle to the motor. It is limited to approximately 270 degrees of rotation so that the angle of incidence of the belt to the rotating table does not change thus effecting the belts tension.  A good range would be 250 degrees, + or - 125 degrees from center. So because of this it is best to align the assumed center by pointing the telescope at a well known compass heading when at center. For now center is recognized when the belt tensioner is directly opposite the driver motor. You can check this by feeling under the telescope for its position.  This could be improved by a sensor or some visual clue.\n",
    "\n",
    "This limitation of Azimuth is acceptable because the telescope can physically be repositioned to view other parts of the sky of interest and does not interfere with tracking. There can also be site based limitations based on physical structures and the surrounding environment, (house, open sky due to trees, etc.).\n"
   ]
  },
  {
   "cell_type": "markdown",
   "metadata": {},
   "source": [
    "This leads us to needing to convert the RA/Dec to an exact number of motor steps to move the scope to (via AltAz) in order to position the object in the telescopes Field of View.\n",
    "\n",
    "To help facilitate this I turn to [AstroPy](https://docs.astropy.org/en/stable/index.html). a Python library for Astronomy and Astrophysics. It is a great tool for working with coordinate systems."
   ]
  },
  {
   "cell_type": "markdown",
   "metadata": {},
   "source": [
    "## Setup needed libraries"
   ]
  },
  {
   "cell_type": "code",
   "execution_count": 62,
   "metadata": {},
   "outputs": [
    {
     "name": "stdout",
     "output_type": "stream",
     "text": [
      "Requirement already satisfied: astropy in /usr/lib/python3/dist-packages (4.0)\n",
      "Note: you may need to restart the kernel to use updated packages.\n",
      "Requirement already satisfied: pytz in /usr/lib/python3/dist-packages (2019.3)\n",
      "Note: you may need to restart the kernel to use updated packages.\n"
     ]
    }
   ],
   "source": [
    "%pip install astropy\n",
    "%pip install pytz"
   ]
  },
  {
   "cell_type": "code",
   "execution_count": 11,
   "metadata": {},
   "outputs": [],
   "source": [
    "\n",
    "from astropy.coordinates import EarthLocation, SkyCoord, AltAz\n",
    "from astropy.time import Time\n",
    "from datetime import datetime, tzinfo\n",
    "from pytz import timezone\n",
    "from typing import Dict, Any, Tuple, Union\n",
    "\n",
    "observatory_parameters: Dict[str, Union[str,float]] = { \n",
    "    'timezone' : 'America/Chicago', \n",
    "    'location' : '106 Melody Cir Verona WI',\n",
    "    'az_heading_degrees': 180.0,\n",
    "    'alt_steps_per_degree' : 1725000 / 90.0,\n",
    "    'az_steps_per_degree' : 200000/ 90.0\n",
    "\n",
    "    }\n",
    "\n",
    "class Observatory:\n",
    "    _observatory_parameters: Dict[str, Union[str,float]] = None\n",
    "    _local_time_tz : tzinfo\n",
    "    _observatory : EarthLocation\n",
    "\n",
    "    def __init__(self, observatory_parameters: Dict[str, Union[str,float]]) -> EarthLocation:\n",
    "        self._observatory_parameters = observatory_parameters\n",
    "        self._local_time_tz = timezone(observatory_parameters['timezone'])\n",
    "        self._observatory = EarthLocation.of_address(observatory_parameters['location'])\n",
    "        \n",
    "    def _get_alt_az_in_motor_steps(self, target_coordinates: SkyCoord, target_time: str) -> Tuple[int,int]:\n",
    "        local_dt = self._local_time_tz.localize(datetime.strptime(target_time, \"%Y-%m-%d %H:%M:%S\"))\n",
    "\n",
    "        alt_az : AltAz = AltAz(location=self._observatory, obstime=Time(local_dt))\n",
    "        target_alt_az : Any = target_coordinates.transform_to(alt_az)\n",
    "\n",
    "        alt_motor_steps = int((90.0 - target_alt_az.alt.degree) * self._observatory_parameters['alt_steps_per_degree'])\n",
    "        az_motor_steps = int((self._observatory_parameters['az_heading_degrees'] - target_alt_az.alt.degree) * self._observatory_parameters['az_steps_per_degree'])\n",
    "\n",
    "        return alt_motor_steps, az_motor_steps\n",
    "\n",
    "    # target_time is in format \"2001-1-2 20:00:00\"\n",
    "    def goto(self, target_coordinates: SkyCoord, target_time: datetime ) -> None:\n",
    "        alt_motor_steps, az_motor_steps = self._get_alt_az_in_motor_steps(target_coordinates, target_time)\n",
    "\n",
    "        # move alt motor\n",
    "        print(alt_motor_steps)\n",
    "\n",
    "        # move az motor\n",
    "        print(az_motor_steps)\n",
    "\n",
    "\n",
    "observatory : Observatory = Observatory(observatory_parameters)\n"
   ]
  },
  {
   "cell_type": "code",
   "execution_count": 12,
   "metadata": {},
   "outputs": [
    {
     "name": "stdout",
     "output_type": "stream",
     "text": [
      "1161049\n",
      "334614\n",
      "1027816\n",
      "319167\n"
     ]
    }
   ],
   "source": [
    "Rigel = SkyCoord('5h15m35.01s', '-8d10m37.1s')\n",
    "observatory.goto(Rigel, '2001-1-2 20:00:00')\n",
    "\n",
    "Betelgeuse = SkyCoord('5h56m20.95', '7d24m37.8s')\n",
    "observatory.goto(Betelgeuse, '2001-1-2 20:00:00')"
   ]
  }
 ],
 "metadata": {
  "interpreter": {
   "hash": "31f2aee4e71d21fbe5cf8b01ff0e069b9275f58929596ceb00d14d90e3e16cd6"
  },
  "kernelspec": {
   "display_name": "Python 3.8.10 64-bit",
   "language": "python",
   "name": "python3"
  },
  "language_info": {
   "codemirror_mode": {
    "name": "ipython",
    "version": 3
   },
   "file_extension": ".py",
   "mimetype": "text/x-python",
   "name": "python",
   "nbconvert_exporter": "python",
   "pygments_lexer": "ipython3",
   "version": "3.8.10"
  },
  "orig_nbformat": 4
 },
 "nbformat": 4,
 "nbformat_minor": 2
}
