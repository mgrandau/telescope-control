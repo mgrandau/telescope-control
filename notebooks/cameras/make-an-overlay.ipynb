{
 "cells": [
  {
   "cell_type": "markdown",
   "metadata": {},
   "source": [
    "# How to make an Ovrrlay for the Finder\n",
    "\n",
    "The finder camera is using a 150 degree (FOV) lens. The actual field of view (AFOV) is less but probably close. The image produced is 1280x960 pixels."
   ]
  },
  {
   "cell_type": "code",
   "execution_count": 2,
   "metadata": {},
   "outputs": [
    {
     "name": "stdout",
     "output_type": "stream",
     "text": [
      "8.533333333333333 pixels per degree\n"
     ]
    }
   ],
   "source": [
    "# FOV per pixel \n",
    "print(f'{1280/150} pixels per degree')"
   ]
  },
  {
   "cell_type": "markdown",
   "metadata": {},
   "source": [
    "## Creating a Telrad equivalent Overlay\n",
    "\n",
    "The reticle pattern is scaled so that each one of the three circles appears to cover a set area of sky: 4 degrees for the outer circle, 2 degrees for the middle circle, and 1/2 degree for the circle in the center. And so Star hopping (moving from one star to another) with the sight is very easy.\n",
    "\n",
    "<img src=\"doc_images/telradpat.gif\"/>"
   ]
  },
  {
   "cell_type": "markdown",
   "metadata": {},
   "source": [
    "Circle diameters in pixels"
   ]
  },
  {
   "cell_type": "code",
   "execution_count": 4,
   "metadata": {},
   "outputs": [
    {
     "name": "stdout",
     "output_type": "stream",
     "text": [
      "Center circle diameter 4.266666666666667 pixels\n",
      "Middle circle diameter 17.066666666666666 pixels\n",
      "Outer circle diameter 34.13333333333333 pixels\n"
     ]
    }
   ],
   "source": [
    "print(f'Center circle diameter {0.5 * 1280/150} pixels')\n",
    "print(f'Middle circle diameter {2 * 1280/150} pixels')\n",
    "print(f'Outer circle diameter {4 * 1280/150} pixels')"
   ]
  },
  {
   "cell_type": "markdown",
   "metadata": {},
   "source": [
    "Under the overlay directory there is a GIMP project, finder-camera-overlays.xcf, that can be used for building transparent overlays for the finder camera. \n",
    "\n",
    "* A center guideline is located based on alignment feedback @ 632 x (1280/2 - 8) and @ 492 (960/2 + 12)\n",
    "\n",
    "You can then place you new transparency layer over it. Once you have everything layed out just export that new layer as png."
   ]
  },
  {
   "cell_type": "code",
   "execution_count": null,
   "metadata": {},
   "outputs": [],
   "source": []
  }
 ],
 "metadata": {
  "interpreter": {
   "hash": "916dbcbb3f70747c44a77c7bcd40155683ae19c65e1c03b4aa3499c5328201f1"
  },
  "kernelspec": {
   "display_name": "Python 3.8.10 64-bit",
   "language": "python",
   "name": "python3"
  },
  "language_info": {
   "codemirror_mode": {
    "name": "ipython",
    "version": 3
   },
   "file_extension": ".py",
   "mimetype": "text/x-python",
   "name": "python",
   "nbconvert_exporter": "python",
   "pygments_lexer": "ipython3",
   "version": "3.8.10"
  },
  "orig_nbformat": 4
 },
 "nbformat": 4,
 "nbformat_minor": 2
}
