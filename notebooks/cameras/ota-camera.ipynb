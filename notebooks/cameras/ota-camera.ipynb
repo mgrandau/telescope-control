{
 "cells": [
  {
   "cell_type": "markdown",
   "metadata": {},
   "source": [
    "# OTA Camera (Daylight Settings)\n",
    "\n",
    "This notebook is about exploring the ASICamera2 API for use with the ASI482MC as a camera through the Optical Tube Assembly (OTA) for remote control and exploration of the night sky."
   ]
  },
  {
   "cell_type": "markdown",
   "metadata": {},
   "source": [
    "## Identify Camera by Number"
   ]
  },
  {
   "cell_type": "code",
   "execution_count": null,
   "metadata": {},
   "outputs": [],
   "source": [
    "import asi\n",
    "\n",
    "cameras = asi.getConnectedCameras()\n",
    "print(\"Connected camera's:\")\n",
    "\n",
    "for camera_number in cameras:\n",
    "    camera_name = (cameras[camera_number]['Name']).decode()\n",
    "    print(f'  Camera Number: {camera_number} ({camera_name})')\n"
   ]
  },
  {
   "cell_type": "markdown",
   "metadata": {},
   "source": [
    "### Playing with exposure and gain settings based on use (Finder Camera).\n",
    "Natural daylight: exposure around 300,000 us. gain is 0\n",
    "\n",
    "Night observing (decent image feedback): exposure around 2,000,000 us. gain around 80\n",
    "\n",
    "Night observing (long exposure): exposure around 20,000,000 us. gain around 50"
   ]
  },
  {
   "cell_type": "code",
   "execution_count": 1,
   "metadata": {},
   "outputs": [
    {
     "name": "stderr",
     "output_type": "stream",
     "text": [
      "INFO:     Started server process [12910]\n",
      "INFO:     Waiting for application startup.\n",
      "INFO:     Application startup complete.\n",
      "INFO:     Uvicorn running on http://0.0.0.0:8002 (Press CTRL+C to quit)\n"
     ]
    }
   ],
   "source": [
    "from asi_camera import ASICamera\n",
    "import uvicorn\n",
    "from fastapi import FastAPI\n",
    "from fastapi.responses import StreamingResponse\n",
    "import threading\n",
    "\n",
    "app = FastAPI()\n",
    "\n",
    "camera: ASICamera  = None\n",
    "\n",
    "def run():\n",
    "    uvicorn.run(app, host=\"0.0.0.0\", port=8002)\n",
    "      \n",
    "def start_api():\n",
    "    _api_thread = threading.Thread(target=run)\n",
    "    _api_thread.start()\n",
    "    \n",
    "def create_stream():\n",
    "    global camera\n",
    "    camera = ASICamera({ \n",
    "        'Camera ID': 1, \n",
    "        'Exposure_Time_In_us': 20000, \n",
    "        'Gain': 2, \n",
    "        'WhiteBalance_Red': 55, \n",
    "        'WhiteBalance_Blue': 80,\n",
    "        'Height': 1080,\n",
    "        'Width': 1920,\n",
    "        'Mode': 'RGB24'\n",
    "    })  \n",
    "    while True:\n",
    "        yield (b'--frame\\r\\n'\n",
    "               b'Content-Type: image/jpeg\\r\\n\\r\\n' + bytearray(camera.get_frame()) + b'\\r\\n\\r\\n')\n",
    "      \n",
    "@app.get(\"/\")\n",
    "def get_video_stream():\n",
    "    return StreamingResponse(create_stream(), media_type='multipart/x-mixed-replace; boundary=frame')\n",
    "\n",
    "start_api()"
   ]
  },
  {
   "cell_type": "code",
   "execution_count": 2,
   "metadata": {},
   "outputs": [
    {
     "data": {
      "text/html": [
       "<img src=\"http://192.168.0.190:8002/\" width=960 />\n"
      ],
      "text/plain": [
       "<IPython.core.display.HTML object>"
      ]
     },
     "metadata": {},
     "output_type": "display_data"
    },
    {
     "name": "stdout",
     "output_type": "stream",
     "text": [
      "INFO:     192.168.0.13:45104 - \"GET / HTTP/1.1\" 200 OK\n"
     ]
    }
   ],
   "source": [
    "%%HTML \n",
    "<img src=\"http://192.168.0.190:8002/\" width=960 />"
   ]
  },
  {
   "cell_type": "code",
   "execution_count": null,
   "metadata": {},
   "outputs": [],
   "source": [
    "print(camera._video.setControlValueManual(\"ASI_WB_R\",55))\n",
    "print(camera._video.setControlValueManual(\"ASI_WB_B\",88))\n"
   ]
  }
 ],
 "metadata": {
  "kernelspec": {
   "display_name": ".venv",
   "language": "python",
   "name": "python3"
  },
  "language_info": {
   "codemirror_mode": {
    "name": "ipython",
    "version": 3
   },
   "file_extension": ".py",
   "mimetype": "text/x-python",
   "name": "python",
   "nbconvert_exporter": "python",
   "pygments_lexer": "ipython3",
   "version": "3.10.6"
  },
  "vscode": {
   "interpreter": {
    "hash": "07d3371056939f9195996130e59ac8139cae150d4e28534cf95ab8906e4f911f"
   }
  }
 },
 "nbformat": 4,
 "nbformat_minor": 4
}
