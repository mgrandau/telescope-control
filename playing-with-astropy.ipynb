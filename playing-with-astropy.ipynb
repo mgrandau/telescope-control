{
 "cells": [
  {
   "cell_type": "markdown",
   "metadata": {},
   "source": [
    "# Explore Astropy\n",
    "\n",
    "[AstroPy](https://docs.astropy.org/en/stable/index.html) is a Python library for Astronomy and Astrophysics. "
   ]
  },
  {
   "cell_type": "code",
   "execution_count": 62,
   "metadata": {},
   "outputs": [
    {
     "name": "stdout",
     "output_type": "stream",
     "text": [
      "Requirement already satisfied: astropy in /usr/lib/python3/dist-packages (4.0)\n",
      "Note: you may need to restart the kernel to use updated packages.\n",
      "Requirement already satisfied: pytz in /usr/lib/python3/dist-packages (2019.3)\n",
      "Note: you may need to restart the kernel to use updated packages.\n"
     ]
    }
   ],
   "source": [
    "%pip install astropy\n",
    "%pip install pytz\n"
   ]
  },
  {
   "cell_type": "code",
   "execution_count": 6,
   "metadata": {},
   "outputs": [
    {
     "name": "stdout",
     "output_type": "stream",
     "text": [
      "2001-01-02 20:00:00-06:00\n",
      "60.57650547357353\n",
      "138.4890441532477\n",
      "dms_tuple(d=138.0, m=29.0, s=20.55895169173482)\n",
      "<SkyCoord (AltAz: obstime=2001-01-03 02:00:00, location=(38235.64864363, -4673247.84473153, 4325945.28352156) m, pressure=0.0 hPa, temperature=0.0 deg_C, relative_humidity=0.0, obswl=1.0 micron): (az, alt) in deg\n",
      "    (117.87123391, 36.37477764)>\n",
      "53.62522235965773\n",
      "117.87123390771129\n"
     ]
    }
   ],
   "source": [
    "\n",
    "from astropy.coordinates import EarthLocation,SkyCoord, AltAz\n",
    "from astropy.time import Time\n",
    "from astropy import units as u\n",
    "from datetime import datetime\n",
    "from pytz import timezone\n",
    "\n",
    "local_time_tz = timezone(\"America/Chicago\")\n",
    "\n",
    "local_dt = local_time_tz.localize(datetime.strptime(\"2001-1-2 20:00:00\", \"%Y-%m-%d %H:%M:%S\"))\n",
    "print(local_dt)\n",
    "\n",
    "observatory_location = EarthLocation.of_address('106 Melody Cir Verona WI')\n",
    "aa = AltAz(location=observatory_location, obstime=Time(local_dt))\n",
    "\n",
    "Rigel = SkyCoord('5h15m35.01s', '-8d10m37.1s')\n",
    "Rigel_alt_az = Rigel.transform_to(aa)\n",
    "\n",
    "print(90-Rigel_alt_az.alt.degree)\n",
    "print(Rigel_alt_az.az.degree)\n",
    "print(Rigel_alt_az.az.dms)\n",
    "\n",
    "Betelgeuse = SkyCoord('5h56m20.95', '7d24m37.8s')\n",
    "print(Betelgeuse.transform_to(aa))\n",
    "alt = Betelgeuse.transform_to(aa).alt\n",
    "az = Betelgeuse.transform_to(aa).az\n",
    "print(90-alt.degree)\n",
    "print(az.degree)\n"
   ]
  }
 ],
 "metadata": {
  "interpreter": {
   "hash": "31f2aee4e71d21fbe5cf8b01ff0e069b9275f58929596ceb00d14d90e3e16cd6"
  },
  "kernelspec": {
   "display_name": "Python 3.8.10 64-bit",
   "language": "python",
   "name": "python3"
  },
  "language_info": {
   "codemirror_mode": {
    "name": "ipython",
    "version": 3
   },
   "file_extension": ".py",
   "mimetype": "text/x-python",
   "name": "python",
   "nbconvert_exporter": "python",
   "pygments_lexer": "ipython3",
   "version": "3.8.10"
  },
  "orig_nbformat": 4
 },
 "nbformat": 4,
 "nbformat_minor": 2
}
