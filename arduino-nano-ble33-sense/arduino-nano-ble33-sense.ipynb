{
 "cells": [
  {
   "cell_type": "markdown",
   "metadata": {},
   "source": [
    "## Setting up"
   ]
  },
  {
   "cell_type": "markdown",
   "metadata": {},
   "source": [
    "# Arduino Nano BLE33 Sense\n",
    "\n",
    "This is a [micro-controller board](./ABX00031-datasheet.pdf) that has a few sensors on it. I will be specifically looking at 6 channels of the IMU, (3 acceleration channels and the 3 magnetic field channels). The acceleration channels will be used to figure the angle of the Optical Tube Assembly (OTA), commonly refereed to as the altitude (ALT).  The 3 magnetic field channels will be used to determine the direction the OTA is pointed, commonly refereed to as the azimuth (AZ). \n",
    "\n",
    "I want to see how accurate they are.  I do know that the ALT/AZ can be identified by the stars (image plate), time of day and location. If the IMU can be used to some degree we mat be able to get some basic functionality without having to process the image plates.\n",
    "\n",
    "The BLE33 Sense can also be used to run a machine learning model. It may be feasible if the accuracy is good enough to determine the Declination the scope is pointed at and to do star tracking based on that.  \n"
   ]
  }
 ],
 "metadata": {
  "language_info": {
   "name": "python"
  },
  "orig_nbformat": 4
 },
 "nbformat": 4,
 "nbformat_minor": 2
}
