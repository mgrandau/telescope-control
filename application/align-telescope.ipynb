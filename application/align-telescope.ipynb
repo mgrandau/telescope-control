{
 "cells": [
  {
   "cell_type": "markdown",
   "metadata": {},
   "source": [
    "<a href=\"https://colab.research.google.com/github/mgrandau/telescope-control/application/align-telescope.ipynb\"><img align=\"left\" src=\"https://colab.research.google.com/assets/colab-badge.svg\" alt=\"Open in Colab\" title=\"Open and Execute in Google Colaboratory\"></a>"
   ]
  },
  {
   "cell_type": "markdown",
   "metadata": {},
   "source": [
    "# Align Telescope\n",
    "\n",
    "This notebook aligns the camera through the telescope with the finder camera using terrestrial objects. The idea is to align the Telerad image so that we can use it at night to get in the area of the sky that we want to view. \n",
    "\n",
    "Once we have that we should be able to use it the finder scope to confirm the Azimuth of the scope.  "
   ]
  },
  {
   "cell_type": "markdown",
   "metadata": {},
   "source": [
    "## Align Cameras\n",
    "\n",
    "Goal: Allow the Telerad image on the finder camera to identify the center of the field-of-view looking through the telescope.\n",
    "\n",
    "* By aligning them using terrestrial objects we are removing the motion of the stars from the alignment problem. This should allow us to maximize the accuracy of the alignment.\n",
    "\n",
    "* We can use the zoom level to get us as close to the reality.\n",
    "\n",
    "* It would be nice to super-impose the field-of-view of the through the scope camera on the field of view of the finder camera."
   ]
  }
 ],
 "metadata": {
  "language_info": {
   "name": "python"
  },
  "orig_nbformat": 4
 },
 "nbformat": 4,
 "nbformat_minor": 2
}
